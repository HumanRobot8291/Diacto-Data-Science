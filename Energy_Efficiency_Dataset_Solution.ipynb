{
  "cells": [
    {
      "cell_type": "markdown",
      "metadata": {
        "colab_type": "text",
        "id": "view-in-github"
      },
      "source": [
        "<a href=\"https://colab.research.google.com/github/HumanRobot8291/Diacto-Data-Science/blob/main/Energy_Efficiency_Dataset_Solution.ipynb\" target=\"_parent\"><img src=\"https://colab.research.google.com/assets/colab-badge.svg\" alt=\"Open In Colab\"/></a>"
      ]
    },
    {
      "cell_type": "code",
      "execution_count": null,
      "id": "6b07f9d8",
      "metadata": {},
      "outputs": [],
      "source": [
        "# This is the test1 branch update"
      ]
    },
    {
      "cell_type": "code",
      "execution_count": null,
      "id": "b0a8fa65",
      "metadata": {},
      "outputs": [],
      "source": [
        "print('Hello')"
      ]
    },
    {
      "cell_type": "code",
      "execution_count": null,
      "id": "90b65775",
      "metadata": {
        "id": "90b65775"
      },
      "outputs": [],
      "source": [
        "import pandas as pd\n",
        "A =  pd.read_csv('ENB2012_data.csv')"
      ]
    },
    {
      "cell_type": "code",
      "execution_count": null,
      "id": "c0b75188",
      "metadata": {
        "id": "c0b75188",
        "outputId": "1a8b8949-c0a7-4148-e179-14b01d6b8808"
      },
      "outputs": [
        {
          "data": {
            "text/plain": [
              "(768, 10)"
            ]
          },
          "execution_count": 2,
          "metadata": {},
          "output_type": "execute_result"
        }
      ],
      "source": [
        "A.shape"
      ]
    },
    {
      "cell_type": "code",
      "execution_count": null,
      "id": "68086235",
      "metadata": {
        "id": "68086235",
        "outputId": "7c018a82-4aff-42b0-e0f7-c92a7727b79b"
      },
      "outputs": [
        {
          "data": {
            "text/html": [
              "<div>\n",
              "<style scoped>\n",
              "    .dataframe tbody tr th:only-of-type {\n",
              "        vertical-align: middle;\n",
              "    }\n",
              "\n",
              "    .dataframe tbody tr th {\n",
              "        vertical-align: top;\n",
              "    }\n",
              "\n",
              "    .dataframe thead th {\n",
              "        text-align: right;\n",
              "    }\n",
              "</style>\n",
              "<table border=\"1\" class=\"dataframe\">\n",
              "  <thead>\n",
              "    <tr style=\"text-align: right;\">\n",
              "      <th></th>\n",
              "      <th>X1</th>\n",
              "      <th>X2</th>\n",
              "      <th>X3</th>\n",
              "      <th>X4</th>\n",
              "      <th>X5</th>\n",
              "      <th>X6</th>\n",
              "      <th>X7</th>\n",
              "      <th>X8</th>\n",
              "      <th>Y1</th>\n",
              "      <th>Y2</th>\n",
              "    </tr>\n",
              "  </thead>\n",
              "  <tbody>\n",
              "    <tr>\n",
              "      <th>0</th>\n",
              "      <td>0.98</td>\n",
              "      <td>514.5</td>\n",
              "      <td>294.0</td>\n",
              "      <td>110.25</td>\n",
              "      <td>7.0</td>\n",
              "      <td>2</td>\n",
              "      <td>0.0</td>\n",
              "      <td>0</td>\n",
              "      <td>15.55</td>\n",
              "      <td>21.33</td>\n",
              "    </tr>\n",
              "    <tr>\n",
              "      <th>1</th>\n",
              "      <td>0.98</td>\n",
              "      <td>514.5</td>\n",
              "      <td>294.0</td>\n",
              "      <td>110.25</td>\n",
              "      <td>7.0</td>\n",
              "      <td>3</td>\n",
              "      <td>0.0</td>\n",
              "      <td>0</td>\n",
              "      <td>15.55</td>\n",
              "      <td>21.33</td>\n",
              "    </tr>\n",
              "    <tr>\n",
              "      <th>2</th>\n",
              "      <td>0.98</td>\n",
              "      <td>514.5</td>\n",
              "      <td>294.0</td>\n",
              "      <td>110.25</td>\n",
              "      <td>7.0</td>\n",
              "      <td>4</td>\n",
              "      <td>0.0</td>\n",
              "      <td>0</td>\n",
              "      <td>15.55</td>\n",
              "      <td>21.33</td>\n",
              "    </tr>\n",
              "    <tr>\n",
              "      <th>3</th>\n",
              "      <td>0.98</td>\n",
              "      <td>514.5</td>\n",
              "      <td>294.0</td>\n",
              "      <td>110.25</td>\n",
              "      <td>7.0</td>\n",
              "      <td>5</td>\n",
              "      <td>0.0</td>\n",
              "      <td>0</td>\n",
              "      <td>15.55</td>\n",
              "      <td>21.33</td>\n",
              "    </tr>\n",
              "    <tr>\n",
              "      <th>4</th>\n",
              "      <td>0.90</td>\n",
              "      <td>563.5</td>\n",
              "      <td>318.5</td>\n",
              "      <td>122.50</td>\n",
              "      <td>7.0</td>\n",
              "      <td>2</td>\n",
              "      <td>0.0</td>\n",
              "      <td>0</td>\n",
              "      <td>20.84</td>\n",
              "      <td>28.28</td>\n",
              "    </tr>\n",
              "  </tbody>\n",
              "</table>\n",
              "</div>"
            ],
            "text/plain": [
              "     X1     X2     X3      X4   X5  X6   X7  X8     Y1     Y2\n",
              "0  0.98  514.5  294.0  110.25  7.0   2  0.0   0  15.55  21.33\n",
              "1  0.98  514.5  294.0  110.25  7.0   3  0.0   0  15.55  21.33\n",
              "2  0.98  514.5  294.0  110.25  7.0   4  0.0   0  15.55  21.33\n",
              "3  0.98  514.5  294.0  110.25  7.0   5  0.0   0  15.55  21.33\n",
              "4  0.90  563.5  318.5  122.50  7.0   2  0.0   0  20.84  28.28"
            ]
          },
          "execution_count": 3,
          "metadata": {},
          "output_type": "execute_result"
        }
      ],
      "source": [
        "A.head()"
      ]
    },
    {
      "cell_type": "code",
      "execution_count": null,
      "id": "4e0238c2",
      "metadata": {
        "id": "4e0238c2",
        "outputId": "c4d686d2-4c6c-4e6b-b4ac-2a647edbffad"
      },
      "outputs": [
        {
          "name": "stdout",
          "output_type": "stream",
          "text": [
            "<class 'pandas.core.frame.DataFrame'>\n",
            "RangeIndex: 768 entries, 0 to 767\n",
            "Data columns (total 10 columns):\n",
            " #   Column  Non-Null Count  Dtype  \n",
            "---  ------  --------------  -----  \n",
            " 0   X1      768 non-null    float64\n",
            " 1   X2      768 non-null    float64\n",
            " 2   X3      768 non-null    float64\n",
            " 3   X4      768 non-null    float64\n",
            " 4   X5      768 non-null    float64\n",
            " 5   X6      768 non-null    int64  \n",
            " 6   X7      768 non-null    float64\n",
            " 7   X8      768 non-null    int64  \n",
            " 8   Y1      768 non-null    float64\n",
            " 9   Y2      768 non-null    float64\n",
            "dtypes: float64(8), int64(2)\n",
            "memory usage: 60.1 KB\n"
          ]
        }
      ],
      "source": [
        "A.info()"
      ]
    },
    {
      "cell_type": "code",
      "execution_count": null,
      "id": "dc5a71a7",
      "metadata": {
        "id": "dc5a71a7",
        "outputId": "22c1f69f-0eb2-4991-cd04-500631687f81"
      },
      "outputs": [
        {
          "data": {
            "text/plain": [
              "0"
            ]
          },
          "execution_count": 5,
          "metadata": {},
          "output_type": "execute_result"
        }
      ],
      "source": [
        "A.isna().sum().sum()"
      ]
    },
    {
      "cell_type": "code",
      "execution_count": null,
      "id": "59c316d2",
      "metadata": {
        "id": "59c316d2"
      },
      "outputs": [],
      "source": [
        "AY1=A.drop('Y2',axis=1)"
      ]
    },
    {
      "cell_type": "code",
      "execution_count": null,
      "id": "5d451ff4",
      "metadata": {
        "id": "5d451ff4",
        "outputId": "23a1a7ad-3c20-4215-fb6d-0b0dc1d29387"
      },
      "outputs": [
        {
          "data": {
            "text/plain": [
              "Index(['X1', 'X2', 'X3', 'X4', 'X5', 'X6', 'X7', 'X8', 'Y1'], dtype='object')"
            ]
          },
          "execution_count": 7,
          "metadata": {},
          "output_type": "execute_result"
        }
      ],
      "source": [
        "AY1.columns"
      ]
    },
    {
      "cell_type": "code",
      "execution_count": null,
      "id": "d66aac2e",
      "metadata": {
        "id": "d66aac2e",
        "outputId": "de1f3d65-7ea1-4e09-9037-eb871457d1ac"
      },
      "outputs": [
        {
          "name": "stdout",
          "output_type": "stream",
          "text": [
            "614\n"
          ]
        }
      ],
      "source": [
        "boundary= int(AY1.shape[0]*0.8)\n",
        "print(boundary)\n",
        "AY1_80_train = AY1.iloc[:boundary]\n",
        "AY1_20_test = AY1.iloc[boundary:]"
      ]
    },
    {
      "cell_type": "code",
      "execution_count": null,
      "id": "2acf22d6",
      "metadata": {
        "id": "2acf22d6",
        "outputId": "e2b4b094-d5fb-4ddc-d51e-d8e386db4446"
      },
      "outputs": [
        {
          "name": "stdout",
          "output_type": "stream",
          "text": [
            "Checking whether there is an H2O instance running at http://localhost:54321 . connected.\n"
          ]
        },
        {
          "data": {
            "text/html": [
              "\n",
              "<style>\n",
              "\n",
              "#h2o-table-2.h2o-container {\n",
              "  overflow-x: auto;\n",
              "}\n",
              "#h2o-table-2 .h2o-table {\n",
              "  /* width: 100%; */\n",
              "  margin-top: 1em;\n",
              "  margin-bottom: 1em;\n",
              "}\n",
              "#h2o-table-2 .h2o-table caption {\n",
              "  white-space: nowrap;\n",
              "  caption-side: top;\n",
              "  text-align: left;\n",
              "  /* margin-left: 1em; */\n",
              "  margin: 0;\n",
              "  font-size: larger;\n",
              "}\n",
              "#h2o-table-2 .h2o-table thead {\n",
              "  white-space: nowrap; \n",
              "  position: sticky;\n",
              "  top: 0;\n",
              "  box-shadow: 0 -1px inset;\n",
              "}\n",
              "#h2o-table-2 .h2o-table tbody {\n",
              "  overflow: auto;\n",
              "}\n",
              "#h2o-table-2 .h2o-table th,\n",
              "#h2o-table-2 .h2o-table td {\n",
              "  text-align: right;\n",
              "  /* border: 1px solid; */\n",
              "}\n",
              "#h2o-table-2 .h2o-table tr:nth-child(even) {\n",
              "  /* background: #F5F5F5 */\n",
              "}\n",
              "\n",
              "</style>      \n",
              "<div id=\"h2o-table-2\" class=\"h2o-container\">\n",
              "  <table class=\"h2o-table\">\n",
              "    <caption></caption>\n",
              "    <thead></thead>\n",
              "    <tbody><tr><td>H2O_cluster_uptime:</td>\n",
              "<td>12 mins 10 secs</td></tr>\n",
              "<tr><td>H2O_cluster_timezone:</td>\n",
              "<td>Asia/Kolkata</td></tr>\n",
              "<tr><td>H2O_data_parsing_timezone:</td>\n",
              "<td>UTC</td></tr>\n",
              "<tr><td>H2O_cluster_version:</td>\n",
              "<td>3.38.0.4</td></tr>\n",
              "<tr><td>H2O_cluster_version_age:</td>\n",
              "<td>4 days </td></tr>\n",
              "<tr><td>H2O_cluster_name:</td>\n",
              "<td>H2O_from_python_Sanghamitra_Ahirrao_mnb6br</td></tr>\n",
              "<tr><td>H2O_cluster_total_nodes:</td>\n",
              "<td>1</td></tr>\n",
              "<tr><td>H2O_cluster_free_memory:</td>\n",
              "<td>3.510 Gb</td></tr>\n",
              "<tr><td>H2O_cluster_total_cores:</td>\n",
              "<td>8</td></tr>\n",
              "<tr><td>H2O_cluster_allowed_cores:</td>\n",
              "<td>8</td></tr>\n",
              "<tr><td>H2O_cluster_status:</td>\n",
              "<td>locked, healthy</td></tr>\n",
              "<tr><td>H2O_connection_url:</td>\n",
              "<td>http://localhost:54321</td></tr>\n",
              "<tr><td>H2O_connection_proxy:</td>\n",
              "<td>{\"http\": null, \"https\": null}</td></tr>\n",
              "<tr><td>H2O_internal_security:</td>\n",
              "<td>False</td></tr>\n",
              "<tr><td>Python_version:</td>\n",
              "<td>3.7.9 final</td></tr></tbody>\n",
              "  </table>\n",
              "</div>\n"
            ],
            "text/plain": [
              "--------------------------  ------------------------------------------\n",
              "H2O_cluster_uptime:         12 mins 10 secs\n",
              "H2O_cluster_timezone:       Asia/Kolkata\n",
              "H2O_data_parsing_timezone:  UTC\n",
              "H2O_cluster_version:        3.38.0.4\n",
              "H2O_cluster_version_age:    4 days\n",
              "H2O_cluster_name:           H2O_from_python_Sanghamitra_Ahirrao_mnb6br\n",
              "H2O_cluster_total_nodes:    1\n",
              "H2O_cluster_free_memory:    3.510 Gb\n",
              "H2O_cluster_total_cores:    8\n",
              "H2O_cluster_allowed_cores:  8\n",
              "H2O_cluster_status:         locked, healthy\n",
              "H2O_connection_url:         http://localhost:54321\n",
              "H2O_connection_proxy:       {\"http\": null, \"https\": null}\n",
              "H2O_internal_security:      False\n",
              "Python_version:             3.7.9 final\n",
              "--------------------------  ------------------------------------------"
            ]
          },
          "metadata": {},
          "output_type": "display_data"
        },
        {
          "name": "stdout",
          "output_type": "stream",
          "text": [
            "Parse progress: |████████████████████████████████████████████████████████████████| (done) 100%\n",
            "Parse progress: |████████████████████████████████████████████████████████████████| (done) 100%\n",
            "AutoML progress: |█\n",
            "16:13:02.67: AutoML: XGBoost is not available; skipping it.\n",
            "\n",
            "██████████████████████████████████████████████████████████████| (done) 100%\n"
          ]
        },
        {
          "data": {
            "text/html": [
              "<pre style='margin: 1em 0 1em 0;'>Model Details\n",
              "=============\n",
              "H2OStackedEnsembleEstimator : Stacked Ensemble\n",
              "Model Key: StackedEnsemble_AllModels_1_AutoML_1_20230110_161301\n",
              "\n",
              "No summary for this model</pre>\n",
              "<div style='margin: 1em 0 1em 0;'><pre style='margin: 1em 0 1em 0;'>ModelMetricsRegressionGLM: stackedensemble\n",
              "** Reported on train data. **\n",
              "\n",
              "MSE: 0.06854218479650638\n",
              "RMSE: 0.2618056240734839\n",
              "MAE: 0.18350770910116918\n",
              "RMSLE: 0.01159145653642249\n",
              "Mean Residual Deviance: 0.06854218479650638\n",
              "R^2: 0.9993072120693957\n",
              "Null degrees of freedom: 613\n",
              "Residual degrees of freedom: 601\n",
              "Null deviance: 60747.16317350756\n",
              "Residual deviance: 42.08490146505492\n",
              "AIC: 124.74870426905197</pre></div>\n",
              "<div style='margin: 1em 0 1em 0;'><pre style='margin: 1em 0 1em 0;'>ModelMetricsRegressionGLM: stackedensemble\n",
              "** Reported on cross-validation data. **\n",
              "\n",
              "MSE: 0.17517569788218035\n",
              "RMSE: 0.41853995971971464\n",
              "MAE: 0.2854649127027989\n",
              "RMSLE: 0.01840004324091264\n",
              "Mean Residual Deviance: 0.17517569788218035\n",
              "R^2: 0.9982294172619641\n",
              "Null degrees of freedom: 613\n",
              "Residual degrees of freedom: 601\n",
              "Null deviance: 60910.1279632337\n",
              "Residual deviance: 107.55787849965873\n",
              "AIC: 700.8895047923395</pre></div>\n",
              "<div style='margin: 1em 0 1em 0;'>\n",
              "<style>\n",
              "\n",
              "#h2o-table-3.h2o-container {\n",
              "  overflow-x: auto;\n",
              "}\n",
              "#h2o-table-3 .h2o-table {\n",
              "  /* width: 100%; */\n",
              "  margin-top: 1em;\n",
              "  margin-bottom: 1em;\n",
              "}\n",
              "#h2o-table-3 .h2o-table caption {\n",
              "  white-space: nowrap;\n",
              "  caption-side: top;\n",
              "  text-align: left;\n",
              "  /* margin-left: 1em; */\n",
              "  margin: 0;\n",
              "  font-size: larger;\n",
              "}\n",
              "#h2o-table-3 .h2o-table thead {\n",
              "  white-space: nowrap; \n",
              "  position: sticky;\n",
              "  top: 0;\n",
              "  box-shadow: 0 -1px inset;\n",
              "}\n",
              "#h2o-table-3 .h2o-table tbody {\n",
              "  overflow: auto;\n",
              "}\n",
              "#h2o-table-3 .h2o-table th,\n",
              "#h2o-table-3 .h2o-table td {\n",
              "  text-align: right;\n",
              "  /* border: 1px solid; */\n",
              "}\n",
              "#h2o-table-3 .h2o-table tr:nth-child(even) {\n",
              "  /* background: #F5F5F5 */\n",
              "}\n",
              "\n",
              "</style>      \n",
              "<div id=\"h2o-table-3\" class=\"h2o-container\">\n",
              "  <table class=\"h2o-table\">\n",
              "    <caption>Cross-Validation Metrics Summary: </caption>\n",
              "    <thead><tr><th></th>\n",
              "<th>mean</th>\n",
              "<th>sd</th>\n",
              "<th>cv_1_valid</th>\n",
              "<th>cv_2_valid</th>\n",
              "<th>cv_3_valid</th>\n",
              "<th>cv_4_valid</th>\n",
              "<th>cv_5_valid</th></tr></thead>\n",
              "    <tbody><tr><td>mae</td>\n",
              "<td>0.2858672</td>\n",
              "<td>0.0198959</td>\n",
              "<td>0.3045501</td>\n",
              "<td>0.2871011</td>\n",
              "<td>0.2700569</td>\n",
              "<td>0.3058869</td>\n",
              "<td>0.2617411</td></tr>\n",
              "<tr><td>mean_residual_deviance</td>\n",
              "<td>0.1730899</td>\n",
              "<td>0.0268384</td>\n",
              "<td>0.2106768</td>\n",
              "<td>0.1794713</td>\n",
              "<td>0.1460633</td>\n",
              "<td>0.1812586</td>\n",
              "<td>0.1479794</td></tr>\n",
              "<tr><td>mse</td>\n",
              "<td>0.1730899</td>\n",
              "<td>0.0268384</td>\n",
              "<td>0.2106768</td>\n",
              "<td>0.1794713</td>\n",
              "<td>0.1460633</td>\n",
              "<td>0.1812586</td>\n",
              "<td>0.1479794</td></tr>\n",
              "<tr><td>null_deviance</td>\n",
              "<td>12182.025</td>\n",
              "<td>1120.6196</td>\n",
              "<td>13015.673</td>\n",
              "<td>13580.33</td>\n",
              "<td>11187.795</td>\n",
              "<td>12119.249</td>\n",
              "<td>11007.081</td></tr>\n",
              "<tr><td>r2</td>\n",
              "<td>0.9982451</td>\n",
              "<td>0.0002130</td>\n",
              "<td>0.9979590</td>\n",
              "<td>0.9982287</td>\n",
              "<td>0.9984667</td>\n",
              "<td>0.9981321</td>\n",
              "<td>0.9984389</td></tr>\n",
              "<tr><td>residual_deviance</td>\n",
              "<td>21.356707</td>\n",
              "<td>4.1708574</td>\n",
              "<td>26.545273</td>\n",
              "<td>23.869684</td>\n",
              "<td>17.089405</td>\n",
              "<td>22.113556</td>\n",
              "<td>17.165615</td></tr>\n",
              "<tr><td>rmse</td>\n",
              "<td>0.4150488</td>\n",
              "<td>0.0321012</td>\n",
              "<td>0.4589954</td>\n",
              "<td>0.4236406</td>\n",
              "<td>0.3821823</td>\n",
              "<td>0.4257448</td>\n",
              "<td>0.3846810</td></tr>\n",
              "<tr><td>rmsle</td>\n",
              "<td>0.0178018</td>\n",
              "<td>0.0048007</td>\n",
              "<td>0.0259636</td>\n",
              "<td>0.0158225</td>\n",
              "<td>0.0138905</td>\n",
              "<td>0.0180405</td>\n",
              "<td>0.0152920</td></tr></tbody>\n",
              "  </table>\n",
              "</div>\n",
              "</div><pre style=\"font-size: smaller; margin: 1em 0 0 0;\">\n",
              "\n",
              "[tips]\n",
              "Use `model.explain()` to inspect the model.\n",
              "--\n",
              "Use `h2o.display.toggle_user_tips()` to switch on/off this section.</pre>"
            ],
            "text/plain": [
              "Model Details\n",
              "=============\n",
              "H2OStackedEnsembleEstimator : Stacked Ensemble\n",
              "Model Key: StackedEnsemble_AllModels_1_AutoML_1_20230110_161301\n",
              "\n",
              "No summary for this model\n",
              "\n",
              "ModelMetricsRegressionGLM: stackedensemble\n",
              "** Reported on train data. **\n",
              "\n",
              "MSE: 0.06854218479650638\n",
              "RMSE: 0.2618056240734839\n",
              "MAE: 0.18350770910116918\n",
              "RMSLE: 0.01159145653642249\n",
              "Mean Residual Deviance: 0.06854218479650638\n",
              "R^2: 0.9993072120693957\n",
              "Null degrees of freedom: 613\n",
              "Residual degrees of freedom: 601\n",
              "Null deviance: 60747.16317350756\n",
              "Residual deviance: 42.08490146505492\n",
              "AIC: 124.74870426905197\n",
              "\n",
              "ModelMetricsRegressionGLM: stackedensemble\n",
              "** Reported on cross-validation data. **\n",
              "\n",
              "MSE: 0.17517569788218035\n",
              "RMSE: 0.41853995971971464\n",
              "MAE: 0.2854649127027989\n",
              "RMSLE: 0.01840004324091264\n",
              "Mean Residual Deviance: 0.17517569788218035\n",
              "R^2: 0.9982294172619641\n",
              "Null degrees of freedom: 613\n",
              "Residual degrees of freedom: 601\n",
              "Null deviance: 60910.1279632337\n",
              "Residual deviance: 107.55787849965873\n",
              "AIC: 700.8895047923395\n",
              "\n",
              "Cross-Validation Metrics Summary: \n",
              "                        mean       sd           cv_1_valid    cv_2_valid    cv_3_valid    cv_4_valid    cv_5_valid\n",
              "----------------------  ---------  -----------  ------------  ------------  ------------  ------------  ------------\n",
              "mae                     0.285867   0.0198959    0.30455       0.287101      0.270057      0.305887      0.261741\n",
              "mean_residual_deviance  0.17309    0.0268384    0.210677      0.179471      0.146063      0.181259      0.147979\n",
              "mse                     0.17309    0.0268384    0.210677      0.179471      0.146063      0.181259      0.147979\n",
              "null_deviance           12182      1120.62      13015.7       13580.3       11187.8       12119.2       11007.1\n",
              "r2                      0.998245   0.000213048  0.997959      0.998229      0.998467      0.998132      0.998439\n",
              "residual_deviance       21.3567    4.17086      26.5453       23.8697       17.0894       22.1136       17.1656\n",
              "rmse                    0.415049   0.0321012    0.458995      0.423641      0.382182      0.425745      0.384681\n",
              "rmsle                   0.0178018  0.00480069   0.0259636     0.0158225     0.0138905     0.0180405     0.015292\n",
              "\n",
              "[tips]\n",
              "Use `model.explain()` to inspect the model.\n",
              "--\n",
              "Use `h2o.display.toggle_user_tips()` to switch on/off this section."
            ]
          },
          "execution_count": 12,
          "metadata": {},
          "output_type": "execute_result"
        }
      ],
      "source": [
        "import h2o\n",
        "from h2o.automl import H2OAutoML\n",
        "\n",
        "# Start the H2O cluster (locally)\n",
        "h2o.init()\n",
        "\n",
        "# Import a sample binary outcome train/test set into H2O\n",
        "train = h2o.H2OFrame(AY1_80_train)\n",
        "test = h2o.H2OFrame(AY1_20_test)\n",
        "\n",
        "# Identify predictors and response\n",
        "x = train.columns\n",
        "y = \"Y1\"\n",
        "x.remove(y)\n",
        "\n",
        "# For binary classification, response should be a factor\n",
        "#train[y] = train[y].asfactor()\n",
        "#test[y] = test[y].asfactor()\n",
        "\n",
        "# Run AutoML for 20 base models\n",
        "aml = H2OAutoML(max_models=20, seed=1)\n",
        "aml.train(x=x, y=y, training_frame=train)\n",
        "\n",
        "# View the AutoML Leaderboard\n",
        "lb = aml.leaderboard\n",
        "lb.head(rows=lb.nrows)  # Print all rows instead of default (10 rows)\n",
        "\n",
        "# model_id                                                  auc    logloss    mean_per_class_error      rmse       mse\n",
        "# ---------------------------------------------------  --------  ---------  ----------------------  --------  --------\n",
        "# StackedEnsemble_AllModels_AutoML_20181212_105540     0.789801   0.551109                0.333174  0.43211   0.186719\n",
        "# StackedEnsemble_BestOfFamily_AutoML_20181212_105540  0.788425   0.552145                0.323192  0.432625  0.187165\n",
        "# XGBoost_1_AutoML_20181212_105540                     0.784651   0.55753                 0.325471  0.434949  0.189181\n",
        "# XGBoost_grid_1_AutoML_20181212_105540_model_4        0.783523   0.557854                0.318819  0.435249  0.189441\n",
        "# XGBoost_grid_1_AutoML_20181212_105540_model_3        0.783004   0.559613                0.325081  0.435708  0.189841\n",
        "# XGBoost_2_AutoML_20181212_105540                     0.78136    0.55888                 0.347074  0.435907  0.190015\n",
        "# XGBoost_3_AutoML_20181212_105540                     0.780847   0.559589                0.330739  0.43613   0.190209\n",
        "# GBM_5_AutoML_20181212_105540                         0.780837   0.559903                0.340848  0.436191  0.190263\n",
        "# GBM_2_AutoML_20181212_105540                         0.780036   0.559806                0.339926  0.436415  0.190458\n",
        "# GBM_1_AutoML_20181212_105540                         0.779827   0.560857                0.335096  0.436616  0.190633\n",
        "# GBM_3_AutoML_20181212_105540                         0.778669   0.56179                 0.325538  0.437189  0.191134\n",
        "# XGBoost_grid_1_AutoML_20181212_105540_model_2        0.774411   0.575017                0.322811  0.4427    0.195984\n",
        "# GBM_4_AutoML_20181212_105540                         0.771426   0.569712                0.33742   0.44107   0.194543\n",
        "# GBM_grid_1_AutoML_20181212_105540_model_1            0.769752   0.572583                0.344331  0.442452  0.195764\n",
        "# GBM_grid_1_AutoML_20181212_105540_model_2            0.754366   0.918567                0.355855  0.496638  0.246649\n",
        "# DRF_1_AutoML_20181212_105540                         0.742892   0.595883                0.355403  0.452774  0.205004\n",
        "# XRT_1_AutoML_20181212_105540                         0.742091   0.599346                0.356583  0.453117  0.205315\n",
        "# DeepLearning_grid_1_AutoML_20181212_105540_model_2   0.741795   0.601497                0.368291  0.454904  0.206937\n",
        "# XGBoost_grid_1_AutoML_20181212_105540_model_1        0.693554   0.620702                0.40588   0.465791  0.216961\n",
        "# DeepLearning_1_AutoML_20181212_105540                0.69137    0.637954                0.409351  0.47178   0.222576\n",
        "# DeepLearning_grid_1_AutoML_20181212_105540_model_1   0.690084   0.661794                0.418469  0.476635  0.227181\n",
        "# GLM_grid_1_AutoML_20181212_105540_model_1            0.682648   0.63852                 0.397234  0.472683  0.223429\n",
        "#\n",
        "# [22 rows x 6 columns]\n",
        "\n",
        "# The leader model is stored here\n",
        "aml.leader"
      ]
    },
    {
      "cell_type": "code",
      "execution_count": null,
      "id": "b9ad4bc4",
      "metadata": {
        "id": "b9ad4bc4",
        "outputId": "a0508da5-9037-4c14-f3fa-6cf93257c1d0"
      },
      "outputs": [
        {
          "name": "stdout",
          "output_type": "stream",
          "text": [
            "stackedensemble prediction progress: |███████████████████████████████████████████| (done) 100%\n"
          ]
        }
      ],
      "source": [
        "preds = aml.predict(test)"
      ]
    },
    {
      "cell_type": "code",
      "execution_count": null,
      "id": "e1808317",
      "metadata": {
        "id": "e1808317",
        "outputId": "9f84401a-3c01-49b9-fe87-894569935196"
      },
      "outputs": [
        {
          "name": "stderr",
          "output_type": "stream",
          "text": [
            "c:\\users\\diacto\\appdata\\local\\programs\\python\\python37\\lib\\site-packages\\h2o\\estimators\\stackedensemble.py:929: H2ODeprecationWarning: The usage of stacked_ensemble.metalearner()['name'] will be deprecated. Metalearner now returns the metalearner object. If you need to get the 'name' please use stacked_ensemble.metalearner().model_id\n",
            "  H2ODeprecationWarning\n"
          ]
        }
      ],
      "source": [
        "# Get model ids for all models in the AutoML Leaderboard\n",
        "model_ids = list(aml.leaderboard['model_id'].as_data_frame().iloc[:,0])\n",
        "# Get the \"All Models\" Stacked Ensemble model\n",
        "se = h2o.get_model([mid for mid in model_ids if \"StackedEnsemble_AllModels\" in mid][0])\n",
        "# Get the Stacked Ensemble metalearner model\n",
        "metalearner = h2o.get_model(se.metalearner()['name'])"
      ]
    },
    {
      "cell_type": "code",
      "execution_count": null,
      "id": "536fee3c",
      "metadata": {
        "id": "536fee3c",
        "outputId": "f9cb314b-449f-4289-fe05-f065ca4a6411"
      },
      "outputs": [
        {
          "data": {
            "text/plain": [
              "{'Intercept': 21.692084690553884,\n",
              " 'GBM_grid_1_AutoML_1_20230110_161301_model_2': 4.311364941247073,\n",
              " 'GBM_5_AutoML_1_20230110_161301': 3.4392157304227062,\n",
              " 'GBM_grid_1_AutoML_1_20230110_161301_model_5': 0.33425892636649496,\n",
              " 'GBM_3_AutoML_1_20230110_161301': 0.0,\n",
              " 'GBM_4_AutoML_1_20230110_161301': 0.2137312132181193,\n",
              " 'GBM_2_AutoML_1_20230110_161301': 0.45281388702252234,\n",
              " 'GBM_grid_1_AutoML_1_20230110_161301_model_1': 0.12480306309506901,\n",
              " 'GBM_grid_1_AutoML_1_20230110_161301_model_3': 0.5550991513792917,\n",
              " 'GBM_grid_1_AutoML_1_20230110_161301_model_4': 0.3354744609842263,\n",
              " 'DRF_1_AutoML_1_20230110_161301': 0.11879102863612033,\n",
              " 'XRT_1_AutoML_1_20230110_161301': 0.0,\n",
              " 'DeepLearning_grid_1_AutoML_1_20230110_161301_model_1': 0.001131601440839984,\n",
              " 'DeepLearning_grid_2_AutoML_1_20230110_161301_model_1': 0.03793049006047664,\n",
              " 'DeepLearning_grid_3_AutoML_1_20230110_161301_model_1': 0.022076981684398644,\n",
              " 'GBM_1_AutoML_1_20230110_161301': 0.0,\n",
              " 'DeepLearning_1_AutoML_1_20230110_161301': 0.0,\n",
              " 'DeepLearning_grid_1_AutoML_1_20230110_161301_model_2': 0.0,\n",
              " 'GLM_1_AutoML_1_20230110_161301': 0.0,\n",
              " 'DeepLearning_grid_2_AutoML_1_20230110_161301_model_2': 0.0,\n",
              " 'DeepLearning_grid_3_AutoML_1_20230110_161301_model_2': 0.0}"
            ]
          },
          "execution_count": 19,
          "metadata": {},
          "output_type": "execute_result"
        }
      ],
      "source": [
        "metalearner.coef_norm()"
      ]
    },
    {
      "cell_type": "code",
      "execution_count": null,
      "id": "547d92dc",
      "metadata": {
        "id": "547d92dc"
      },
      "outputs": [],
      "source": [
        "import git\n"
      ]
    },
    {
      "cell_type": "code",
      "execution_count": 1,
      "id": "xAUMgXF6XwXP",
      "metadata": {
        "colab": {
          "base_uri": "https://localhost:8080/"
        },
        "id": "xAUMgXF6XwXP",
        "outputId": "29dfbbf2-1803-49a8-e175-40dca4553111"
      },
      "outputs": [
        {
          "name": "stdout",
          "output_type": "stream",
          "text": [
            "fatal: not a git repository (or any of the parent directories): .git\n"
          ]
        }
      ],
      "source": [
        "!git push https://github.com/ashishs1407/Data_Science_Diacto.git"
      ]
    },
    {
      "cell_type": "code",
      "execution_count": null,
      "id": "Fjoxktq9X0Ah",
      "metadata": {
        "id": "Fjoxktq9X0Ah"
      },
      "outputs": [],
      "source": []
    }
  ],
  "metadata": {
    "colab": {
      "include_colab_link": true,
      "provenance": []
    },
    "kernelspec": {
      "display_name": "Python 3 (ipykernel)",
      "language": "python",
      "name": "python3"
    },
    "language_info": {
      "codemirror_mode": {
        "name": "ipython",
        "version": 3
      },
      "file_extension": ".py",
      "mimetype": "text/x-python",
      "name": "python",
      "nbconvert_exporter": "python",
      "pygments_lexer": "ipython3",
      "version": "3.7.9"
    }
  },
  "nbformat": 4,
  "nbformat_minor": 5
}
